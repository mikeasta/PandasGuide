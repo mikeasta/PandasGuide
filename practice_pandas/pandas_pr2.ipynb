{
 "cells": [
  {
   "cell_type": "code",
   "execution_count": 1,
   "metadata": {},
   "outputs": [],
   "source": [
    "# Imports\n",
    "import pandas as pd"
   ]
  },
  {
   "cell_type": "code",
   "execution_count": 2,
   "metadata": {},
   "outputs": [],
   "source": [
    "students_performance = pd.read_csv(\"./../StudentsPerformance.csv\")"
   ]
  },
  {
   "cell_type": "code",
   "execution_count": 3,
   "metadata": {},
   "outputs": [
    {
     "data": {
      "text/html": [
       "<div>\n",
       "<style scoped>\n",
       "    .dataframe tbody tr th:only-of-type {\n",
       "        vertical-align: middle;\n",
       "    }\n",
       "\n",
       "    .dataframe tbody tr th {\n",
       "        vertical-align: top;\n",
       "    }\n",
       "\n",
       "    .dataframe thead th {\n",
       "        text-align: right;\n",
       "    }\n",
       "</style>\n",
       "<table border=\"1\" class=\"dataframe\">\n",
       "  <thead>\n",
       "    <tr style=\"text-align: right;\">\n",
       "      <th></th>\n",
       "      <th>gender</th>\n",
       "      <th>race/ethnicity</th>\n",
       "      <th>parental level of education</th>\n",
       "      <th>lunch</th>\n",
       "      <th>test preparation course</th>\n",
       "      <th>math score</th>\n",
       "      <th>reading score</th>\n",
       "      <th>writing score</th>\n",
       "    </tr>\n",
       "  </thead>\n",
       "  <tbody>\n",
       "    <tr>\n",
       "      <th>0</th>\n",
       "      <td>female</td>\n",
       "      <td>group B</td>\n",
       "      <td>bachelor's degree</td>\n",
       "      <td>standard</td>\n",
       "      <td>none</td>\n",
       "      <td>72</td>\n",
       "      <td>72</td>\n",
       "      <td>74</td>\n",
       "    </tr>\n",
       "    <tr>\n",
       "      <th>1</th>\n",
       "      <td>female</td>\n",
       "      <td>group C</td>\n",
       "      <td>some college</td>\n",
       "      <td>standard</td>\n",
       "      <td>completed</td>\n",
       "      <td>69</td>\n",
       "      <td>90</td>\n",
       "      <td>88</td>\n",
       "    </tr>\n",
       "    <tr>\n",
       "      <th>2</th>\n",
       "      <td>female</td>\n",
       "      <td>group B</td>\n",
       "      <td>master's degree</td>\n",
       "      <td>standard</td>\n",
       "      <td>none</td>\n",
       "      <td>90</td>\n",
       "      <td>95</td>\n",
       "      <td>93</td>\n",
       "    </tr>\n",
       "    <tr>\n",
       "      <th>3</th>\n",
       "      <td>male</td>\n",
       "      <td>group A</td>\n",
       "      <td>associate's degree</td>\n",
       "      <td>free/reduced</td>\n",
       "      <td>none</td>\n",
       "      <td>47</td>\n",
       "      <td>57</td>\n",
       "      <td>44</td>\n",
       "    </tr>\n",
       "    <tr>\n",
       "      <th>4</th>\n",
       "      <td>male</td>\n",
       "      <td>group C</td>\n",
       "      <td>some college</td>\n",
       "      <td>standard</td>\n",
       "      <td>none</td>\n",
       "      <td>76</td>\n",
       "      <td>78</td>\n",
       "      <td>75</td>\n",
       "    </tr>\n",
       "  </tbody>\n",
       "</table>\n",
       "</div>"
      ],
      "text/plain": [
       "   gender race/ethnicity parental level of education         lunch  \\\n",
       "0  female        group B           bachelor's degree      standard   \n",
       "1  female        group C                some college      standard   \n",
       "2  female        group B             master's degree      standard   \n",
       "3    male        group A          associate's degree  free/reduced   \n",
       "4    male        group C                some college      standard   \n",
       "\n",
       "  test preparation course  math score  reading score  writing score  \n",
       "0                    none          72             72             74  \n",
       "1               completed          69             90             88  \n",
       "2                    none          90             95             93  \n",
       "3                    none          47             57             44  \n",
       "4                    none          76             78             75  "
      ]
     },
     "execution_count": 3,
     "metadata": {},
     "output_type": "execute_result"
    }
   ],
   "source": [
    "students_performance.head()"
   ]
  },
  {
   "cell_type": "code",
   "execution_count": 7,
   "metadata": {},
   "outputs": [
    {
     "name": "stdout",
     "output_type": "stream",
     "text": [
      "Free: Math score - mean = 58.92112676056338, var = 229.82426991326489. Reading score - mean = 64.65352112676057, var = 221.87113869658629. Writing score - mean = 63.02253521126761, var = 238.20288056019737.\n",
      "Standard: Math score - mean = 70.03410852713178, var = 186.41808946025327. Reading score - mean = 71.65426356589147, var = 191.28556020992824. Writing score - mean = 70.8232558139535, var = 205.62088689874338.\n"
     ]
    }
   ],
   "source": [
    "free_mean_math = students_performance[students_performance.lunch == \"free/reduced\"][\"math score\"].mean()\n",
    "free_var_math  = students_performance[students_performance.lunch == \"free/reduced\"][\"math score\"].var()\n",
    "free_mean_reading = students_performance[students_performance.lunch == \"free/reduced\"][\"reading score\"].mean()\n",
    "free_var_reading  = students_performance[students_performance.lunch == \"free/reduced\"][\"reading score\"].var()\n",
    "free_mean_writing = students_performance[students_performance.lunch == \"free/reduced\"][\"writing score\"].mean()\n",
    "free_var_writing  = students_performance[students_performance.lunch == \"free/reduced\"][\"writing score\"].var()\n",
    "\n",
    "standard_mean_math = students_performance[students_performance.lunch == \"standard\"][\"math score\"].mean()\n",
    "standard_var_math  = students_performance[students_performance.lunch == \"standard\"][\"math score\"].var()\n",
    "standard_mean_reading = students_performance[students_performance.lunch == \"standard\"][\"reading score\"].mean()\n",
    "standard_var_reading  = students_performance[students_performance.lunch == \"standard\"][\"reading score\"].var()\n",
    "standard_mean_writing = students_performance[students_performance.lunch == \"standard\"][\"writing score\"].mean()\n",
    "standard_var_writing  = students_performance[students_performance.lunch == \"standard\"][\"writing score\"].var()\n",
    "\n",
    "print(f\"Free: Math score - mean = {free_mean_math}, var = {free_var_math}. Reading score - mean = {free_mean_reading}, var = {free_var_reading}. Writing score - mean = {free_mean_writing}, var = {free_var_writing}.\")\n",
    "print(f\"Standard: Math score - mean = {standard_mean_math}, var = {standard_var_math}. Reading score - mean = {standard_mean_reading}, var = {standard_var_reading}. Writing score - mean = {standard_mean_writing}, var = {standard_var_writing}.\")\n"
   ]
  }
 ],
 "metadata": {
  "kernelspec": {
   "display_name": "Python 3.10.2 64-bit",
   "language": "python",
   "name": "python3"
  },
  "language_info": {
   "codemirror_mode": {
    "name": "ipython",
    "version": 3
   },
   "file_extension": ".py",
   "mimetype": "text/x-python",
   "name": "python",
   "nbconvert_exporter": "python",
   "pygments_lexer": "ipython3",
   "version": "3.10.2"
  },
  "orig_nbformat": 4,
  "vscode": {
   "interpreter": {
    "hash": "d1415042834749fe8a13939bb9f36d63ebbc8fddbfb19d1e7e3b7eae5ababa03"
   }
  }
 },
 "nbformat": 4,
 "nbformat_minor": 2
}
